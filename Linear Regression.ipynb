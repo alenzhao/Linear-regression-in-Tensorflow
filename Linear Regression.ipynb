{
 "cells": [
  {
   "cell_type": "markdown",
   "metadata": {},
   "source": [
    "# Linear regression"
   ]
  },
  {
   "cell_type": "markdown",
   "metadata": {},
   "source": [
    "Linear regression using Google's TensorFlow API for machine learning. The following example shows how usual linear regression is done in the machine learning framework."
   ]
  },
  {
   "cell_type": "markdown",
   "metadata": {},
   "source": [
    "### Simple linear regression\n",
    "\n",
    "A simple linear regression model in the statistician's language is: \n",
    "\n",
    "$$Y \\sim \\beta_0 + \\beta_1 X,$$\n",
    "\n",
    "where $X$ is the (single) independent variable and $Y$ is the dependent variable, and the $\\beta$ are the fitting coefficients ($\\beta_0$ is the intersection and $\\beta_1$ is the slope).\n",
    "\n",
    "This problem translates to the machine learner's language as\n",
    "\n",
    "$$y = W x + b$$\n",
    "\n",
    "where $x$ is the the (single) feature, $y$ is the prediction, $W$ is the so-called weight matrix (in this case it is a scalar since the problem is one-dimensional), and $b$ is the so-called bias. \n",
    "\n",
    "Oftentimes, there are multiple independent variables explaining the change in the dependent variable, or multiple features in machine learning language."
   ]
  },
  {
   "cell_type": "markdown",
   "metadata": {},
   "source": [
    "Now, import the Google's machine learning library, TensorFlow, for handling matrix operations and learning, and Python's numerical library, NumPy, for random number generation."
   ]
  },
  {
   "cell_type": "code",
   "execution_count": 142,
   "metadata": {
    "collapsed": false
   },
   "outputs": [],
   "source": [
    "# Make plot appear in this notebook\n",
    "%matplotlib inline\n",
    "\n",
    "# Import Dataframe, numerical, machine learning and plotting libraries\n",
    "import tensorflow as tf\n",
    "import numpy as np\n",
    "import pandas as pd\n",
    "import matplotlib.pyplot as plt"
   ]
  },
  {
   "cell_type": "markdown",
   "metadata": {},
   "source": [
    "Create 100 (x, y) data points in NumPy such that $$y = 0.1 x + 0.3$$ where the x are randomly chosen points around 0. These x data points will be fixed from now on for different variants of this linear regression problem. The fact that they are random is unimportant. I use the NumPy library's random generator here. "
   ]
  },
  {
   "cell_type": "code",
   "execution_count": 143,
   "metadata": {
    "collapsed": false
   },
   "outputs": [],
   "source": [
    "n_data = 100 # Number of data points\n",
    "np.random.seed(0) # Fix seed so that everyone has the same data\n",
    "x_data = np.random.randn(n_data).astype(np.float32)\n",
    "y_data = 0.1 * x_data + 0.3"
   ]
  },
  {
   "cell_type": "markdown",
   "metadata": {},
   "source": [
    "Try to find values for W and b that compute $y = W x + b$\n",
    "Obviously, W should be 0.1 and b 0.3, but let's see how Tensorflow\n",
    "figures it out for us."
   ]
  },
  {
   "cell_type": "code",
   "execution_count": 144,
   "metadata": {
    "collapsed": false
   },
   "outputs": [
    {
     "data": {
      "text/plain": [
       "<matplotlib.collections.PathCollection at 0x120e19c88>"
      ]
     },
     "execution_count": 144,
     "metadata": {},
     "output_type": "execute_result"
    },
    {
     "data": {
      "image/png": "[encoded data removed]",
      "text/plain": [
       "<matplotlib.figure.Figure at 0x120d0c390>"
      ]
     },
     "metadata": {},
     "output_type": "display_data"
    }
   ],
   "source": [
    "# Scatter plot of data\n",
    "p1, ax1 = plt.subplots() \n",
    "color1 = (1,0,0)\n",
    "ax1.scatter(x_data, y_data, facecolor=color1, edgecolor=color1)"
   ]
  },
  {
   "cell_type": "markdown",
   "metadata": {},
   "source": [
    "Let's put the corresponding linear line across our data points."
   ]
  },
  {
   "cell_type": "code",
   "execution_count": 145,
   "metadata": {
    "collapsed": false
   },
   "outputs": [],
   "source": [
    "def plotLine(p1, ax1, intersect, slope, color):\n",
    "    # Get axis limits\n",
    "    x_min1, x_max1 = ax1.get_xlim()\n",
    "    y_min1, y_max1 = ax1.get_ylim()\n",
    "\n",
    "    # Plot line\n",
    "    y_min, y_max = intersect + slope*x_min1, intersect + slope*x_max1\n",
    "    ax1.plot([x_min1, x_max1], [y_min, y_max], color=color)\n",
    "\n",
    "    # Reset axis limits\n",
    "    ax1.set_xlim([x_min1, x_max1])\n",
    "    ax1.set_ylim([y_min1, y_max1])\n",
    "    return p1, ax1"
   ]
  },
  {
   "cell_type": "code",
   "execution_count": 146,
   "metadata": {
    "collapsed": false
   },
   "outputs": [
    {
     "data": {
      "image/png": "[encoded data removed]",
      "text/plain": [
       "<matplotlib.figure.Figure at 0x120d0c390>"
      ]
     },
     "execution_count": 146,
     "metadata": {},
     "output_type": "execute_result"
    }
   ],
   "source": [
    "color = (1,1,1)\n",
    "p1, ax1 = plotLine(p1, ax1, 0.3, 0.1, color)\n",
    "p1"
   ]
  },
  {
   "cell_type": "markdown",
   "metadata": {},
   "source": [
    "Let's initialize the weight with a random number between -1 and 1, and the bias 0. Here using Tensorflow's random number generator."
   ]
  },
  {
   "cell_type": "code",
   "execution_count": 147,
   "metadata": {
    "collapsed": true
   },
   "outputs": [],
   "source": [
    "W = tf.Variable(tf.random_uniform([1], -1.0, 1.0))\n",
    "b = tf.Variable(tf.zeros([1]))"
   ]
  },
  {
   "cell_type": "markdown",
   "metadata": {},
   "source": [
    "I'll plot our linear fit with this initial fitting variables, $W$ and $b$ below."
   ]
  },
  {
   "cell_type": "markdown",
   "metadata": {},
   "source": [
    "With this weight and bias, the predicted y will be:"
   ]
  },
  {
   "cell_type": "code",
   "execution_count": 148,
   "metadata": {
    "collapsed": true
   },
   "outputs": [],
   "source": [
    "y = W * x_data + b"
   ]
  },
  {
   "cell_type": "markdown",
   "metadata": {},
   "source": [
    "Let's define the error of the fit by the sum of the square of the error on each training example, also called the loss function, and minimize this mean squared error loss function to get the $W$ weight and $b$ bias. \n",
    "\n",
    "Then we pick a gradient descent optimizer as our optimizer to find the minimum of the loss we just defined. The GradientDescentOptimizer is called with a specific learning rate 0.5 in this case.\n",
    "\n",
    "We call on the optimizer the minimize function with the loss as parameter."
   ]
  },
  {
   "cell_type": "code",
   "execution_count": 149,
   "metadata": {
    "collapsed": true
   },
   "outputs": [],
   "source": [
    "loss = tf.reduce_mean(tf.square(y - y_data))\n",
    "optimizer = tf.train.GradientDescentOptimizer(0.01)\n",
    "train = optimizer.minimize(loss)"
   ]
  },
  {
   "cell_type": "markdown",
   "metadata": {},
   "source": [
    "Before starting, initialize the variables, meaning intialize $W$ weight and $b$ bias. We will 'run' this - initialization - first."
   ]
  },
  {
   "cell_type": "code",
   "execution_count": 150,
   "metadata": {
    "collapsed": false
   },
   "outputs": [],
   "source": [
    "init = tf.initialize_all_variables()"
   ]
  },
  {
   "cell_type": "markdown",
   "metadata": {},
   "source": [
    "Let's define a TensorFlow session and now actually run the initialization in this session."
   ]
  },
  {
   "cell_type": "code",
   "execution_count": 151,
   "metadata": {
    "collapsed": false
   },
   "outputs": [],
   "source": [
    "sess = tf.Session()\n",
    "sess.run(init)"
   ]
  },
  {
   "cell_type": "markdown",
   "metadata": {},
   "source": [
    "Now, we do the actual fitting or learning step-by-step by running the above defined 'train' optimizer to minimize the loss function."
   ]
  },
  {
   "cell_type": "code",
   "execution_count": 152,
   "metadata": {
    "collapsed": false
   },
   "outputs": [
    {
     "name": "stdout",
     "output_type": "stream",
     "text": [
      "0 0.0053874 0.602056 0.326055\n",
      "100 0.252655 0.169164 0.00672631\n",
      "200 0.292575 0.109636 0.000141222\n",
      "300 0.298855 0.101356 2.99905e-06\n"
     ]
    }
   ],
   "source": [
    "n_steps = 301 # Number of steps in the gradient descent towards the minimum of the loss function\n",
    "n_gap = 100 # Plot every n-gap steps starting from the 1st step\n",
    "for step in range(n_steps):\n",
    "    sess.run(train)\n",
    "    if step % n_gap == 0:\n",
    "        Wstep = sess.run(W)\n",
    "        bstep = sess.run(b)\n",
    "        color = (1,0,0,0.9*step/n_steps+0.1)\n",
    "        plotLine(p1,ax1,bstep,Wstep, color) # Successively plots better fitting lines\n",
    "        print(step, bstep[0], Wstep[0], sess.run(loss))\n",
    "\n",
    "# Learns best fit is W: [0.1], b: [0.3]"
   ]
  },
  {
   "cell_type": "code",
   "execution_count": 153,
   "metadata": {
    "collapsed": false
   },
   "outputs": [
    {
     "data": {
      "image/png": "[encoded data removed]",
      "text/plain": [
       "<matplotlib.figure.Figure at 0x120d0c390>"
      ]
     },
     "execution_count": 153,
     "metadata": {},
     "output_type": "execute_result"
    }
   ],
   "source": [
    "p1"
   ]
  },
  {
   "cell_type": "code",
   "execution_count": 141,
   "metadata": {
    "collapsed": false
   },
   "outputs": [],
   "source": [
    "sess.close()"
   ]
  },
  {
   "cell_type": "code",
   "execution_count": 283,
   "metadata": {
    "collapsed": false
   },
   "outputs": [],
   "source": [
    "#plot(sess.graph)"
   ]
  },
  {
   "cell_type": "code",
   "execution_count": null,
   "metadata": {
    "collapsed": true
   },
   "outputs": [],
   "source": []
  },
  {
   "cell_type": "code",
   "execution_count": null,
   "metadata": {
    "collapsed": true
   },
   "outputs": [],
   "source": []
  },
  {
   "cell_type": "code",
   "execution_count": null,
   "metadata": {
    "collapsed": true
   },
   "outputs": [],
   "source": []
  }
 ],
 "metadata": {
  "anaconda-cloud": {},
  "kernelspec": {
   "display_name": "Python [default]",
   "language": "python",
   "name": "python3"
  },
  "language_info": {
   "codemirror_mode": {
    "name": "ipython",
    "version": 3
   },
   "file_extension": ".py",
   "mimetype": "text/x-python",
   "name": "python",
   "nbconvert_exporter": "python",
   "pygments_lexer": "ipython3",
   "version": "3.5.2"
  }
 },
 "nbformat": 4,
 "nbformat_minor": 0
}
