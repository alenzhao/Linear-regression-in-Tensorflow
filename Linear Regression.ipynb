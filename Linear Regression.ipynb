{
 "cells": [
  {
   "cell_type": "markdown",
   "metadata": {
    "nbpresent": {
     "id": "6ddd6d93-17be-49dc-bf00-91c839d2edbe"
    }
   },
   "source": [
    "# Linear regression"
   ]
  },
  {
   "cell_type": "markdown",
   "metadata": {
    "nbpresent": {
     "id": "48ba0157-506f-49f4-9ea1-641432e495e9"
    }
   },
   "source": [
    "Linear regression using Google's TensorFlow API for machine learning. The following example shows how usual linear regression is done in the machine learning framework."
   ]
  },
  {
   "cell_type": "markdown",
   "metadata": {
    "nbpresent": {
     "id": "1b635496-03c6-4ed9-b72a-2147e8c74271"
    }
   },
   "source": [
    "## Simple linear regression (with no idiosyncrasy)\n",
    "\n",
    "A simple linear regression model in the statistician's language is: \n",
    "\n",
    "$$Y \\sim \\beta_0 + \\beta_1 X,$$\n",
    "\n",
    "where $X$ is the (single) independent variable and $Y$ is the dependent variable, and the $\\beta$ are the fitting coefficients ($\\beta_0$ is the intersection and $\\beta_1$ is the slope).\n",
    "\n",
    "This problem translates to the machine learner's language as\n",
    "\n",
    "$$y = W x + b$$\n",
    "\n",
    "where $x$ is the the (single) feature, $y$ is the prediction, $W$ is the so-called weight matrix (in this case it is a scalar since the problem is one-dimensional), and $b$ is the so-called bias. \n",
    "\n",
    "Oftentimes, there are multiple independent variables explaining the change in the dependent variable, or multiple features in machine learning language."
   ]
  },
  {
   "cell_type": "markdown",
   "metadata": {
    "nbpresent": {
     "id": "6b8f4749-068b-455e-bd67-810271c7adf6"
    }
   },
   "source": [
    "### Import libraries"
   ]
  },
  {
   "cell_type": "markdown",
   "metadata": {
    "nbpresent": {
     "id": "c9c62429-5d7a-40b7-8f37-d2e6b5bad67c"
    }
   },
   "source": [
    "Now, import the Google's machine learning library, TensorFlow, for handling matrix operations and learning, and Python's numerical library, NumPy, for random number generation."
   ]
  },
  {
   "cell_type": "code",
   "execution_count": 228,
   "metadata": {
    "collapsed": false,
    "nbpresent": {
     "id": "f65926a4-9133-4c76-a73a-fef1961f3684"
    }
   },
   "outputs": [],
   "source": [
    "# Make plot appear in this notebook\n",
    "%matplotlib inline\n",
    "\n",
    "# Import Dataframe, numerical, machine learning and plotting libraries\n",
    "import tensorflow as tf\n",
    "import numpy as np\n",
    "import pandas as pd\n",
    "import matplotlib.pyplot as plt"
   ]
  },
  {
   "cell_type": "markdown",
   "metadata": {
    "nbpresent": {
     "id": "41819ccc-dec5-4a59-bce3-41884fcd1642"
    }
   },
   "source": [
    "### Get data"
   ]
  },
  {
   "cell_type": "markdown",
   "metadata": {
    "nbpresent": {
     "id": "d673b458-ebd0-498c-9179-4ba73d68ad93"
    }
   },
   "source": [
    "Create 100 (x, y) data points in NumPy such that \n",
    "\n",
    "$$y = 0.1 x + 0.3$$ \n",
    "\n",
    "where the x are randomly chosen points in a narrow range, approximately [-3, 3], around 0. These x data points will be fixed from now on for different variants of this linear regression problem. The fact that they are random is unimportant. I use the NumPy library's random generator here to generate the $x$. Note that there is no randomness in $y$, so no idiosyncrasy, so scatter around the straight line. Later we will look at how idiosycrasy affects this simple model."
   ]
  },
  {
   "cell_type": "code",
   "execution_count": 229,
   "metadata": {
    "collapsed": false,
    "nbpresent": {
     "id": "b8737763-c8d2-49c4-a9a4-c7efa8e9c3d8"
    }
   },
   "outputs": [],
   "source": [
    "n_data = 100 # Number of data points\n",
    "np.random.seed(0) # Fix seed so that everyone has the same data\n",
    "x_data = np.random.randn(n_data).astype(np.float32)\n",
    "y_data = 0.1 * x_data + 0.3"
   ]
  },
  {
   "cell_type": "markdown",
   "metadata": {
    "nbpresent": {
     "id": "4aa76cfe-1b57-4e0f-b3c1-a08382554c46"
    }
   },
   "source": [
    "Try to find values for W and b that compute $y = W x + b$. Since there is no idiosycrasy in the data, all points fit perfectly on a straight line by design in this case, it is obvious that fitting this data set, W should be 0.1 and b 0.3. But let's see how Tensorflow figures it out for us."
   ]
  },
  {
   "cell_type": "code",
   "execution_count": 230,
   "metadata": {
    "collapsed": false,
    "nbpresent": {
     "id": "295ba2d0-febb-4871-8562-caf2799d9762"
    }
   },
   "outputs": [
    {
     "data": {
      "text/plain": [
       "<matplotlib.collections.PathCollection at 0x121f9ae80>"
      ]
     },
     "execution_count": 230,
     "metadata": {},
     "output_type": "execute_result"
    },
    {
     "data": {
      "image/png": "[encoded data removed]",
      "text/plain": [
       "<matplotlib.figure.Figure at 0x12151d860>"
      ]
     },
     "metadata": {},
     "output_type": "display_data"
    }
   ],
   "source": [
    "# Scatter plot of data\n",
    "p1, ax1 = plt.subplots() \n",
    "color1 = (1,0,0)\n",
    "ax1.scatter(x_data, y_data, facecolor=color1, edgecolor=color1)"
   ]
  },
  {
   "cell_type": "markdown",
   "metadata": {
    "nbpresent": {
     "id": "25779c7b-181b-481c-a363-2e818a1cdf69"
    }
   },
   "source": [
    "Let's put the corresponding linear line across our data points."
   ]
  },
  {
   "cell_type": "code",
   "execution_count": 231,
   "metadata": {
    "collapsed": false,
    "nbpresent": {
     "id": "af843651-30f5-4c79-bb49-e530d35d8858"
    }
   },
   "outputs": [],
   "source": [
    "def plotLine(p1, ax1, intersect, slope, color):\n",
    "    # Get axis limits\n",
    "    x_min1, x_max1 = ax1.get_xlim()\n",
    "    y_min1, y_max1 = ax1.get_ylim()\n",
    "\n",
    "    # Plot line\n",
    "    y_min, y_max = intersect + slope*x_min1, intersect + slope*x_max1\n",
    "    ax1.plot([x_min1, x_max1], [y_min, y_max], color=color)\n",
    "\n",
    "    # Reset axis limits\n",
    "    ax1.set_xlim([x_min1, x_max1])\n",
    "    ax1.set_ylim([y_min1, y_max1])\n",
    "    return p1, ax1"
   ]
  },
  {
   "cell_type": "code",
   "execution_count": 232,
   "metadata": {
    "collapsed": false,
    "nbpresent": {
     "id": "42382f2a-06ca-4da0-a872-7d6e06935341"
    }
   },
   "outputs": [
    {
     "data": {
      "image/png": "[encoded data removed]",
      "text/plain": [
       "<matplotlib.figure.Figure at 0x12151d860>"
      ]
     },
     "execution_count": 232,
     "metadata": {},
     "output_type": "execute_result"
    }
   ],
   "source": [
    "color = (1,1,1)\n",
    "p1, ax1 = plotLine(p1, ax1, 0.3, 0.1, color)\n",
    "p1"
   ]
  },
  {
   "cell_type": "markdown",
   "metadata": {
    "nbpresent": {
     "id": "902bcb83-ff35-433c-86bb-197f3f3746eb"
    }
   },
   "source": [
    "### Initialize the weight and the bias"
   ]
  },
  {
   "cell_type": "markdown",
   "metadata": {
    "nbpresent": {
     "id": "bf48e5e7-cec9-4bbe-ad69-f2a697b35f86"
    }
   },
   "source": [
    "Let's initialize the weight with a random number between -1 and 1, and the bias 0. Here using Tensorflow's random number generator."
   ]
  },
  {
   "cell_type": "code",
   "execution_count": 233,
   "metadata": {
    "collapsed": true,
    "nbpresent": {
     "id": "bab11eaa-0bb0-4341-92ac-1c0a124cc367"
    }
   },
   "outputs": [],
   "source": [
    "W = tf.Variable(tf.random_uniform([1], -1.0, 1.0))\n",
    "b = tf.Variable(tf.zeros([1]))"
   ]
  },
  {
   "cell_type": "markdown",
   "metadata": {
    "nbpresent": {
     "id": "b120f251-ab59-4121-86d1-eaec05c7e559"
    }
   },
   "source": [
    "I'll plot our linear fit with this initial fitting variables, $W$ and $b$ below."
   ]
  },
  {
   "cell_type": "markdown",
   "metadata": {
    "nbpresent": {
     "id": "6a34991a-0d08-460a-bc46-917c7b963d5e"
    }
   },
   "source": [
    "### Set up the loss function and gradient descent optimizer for training"
   ]
  },
  {
   "cell_type": "markdown",
   "metadata": {
    "nbpresent": {
     "id": "efd3df24-7533-496c-95fc-e9657b5f160a"
    }
   },
   "source": [
    "With this weight and bias, the predicted y will be:"
   ]
  },
  {
   "cell_type": "code",
   "execution_count": 234,
   "metadata": {
    "collapsed": true,
    "nbpresent": {
     "id": "bf44e7fa-7864-4f41-beff-627f7755f9af"
    }
   },
   "outputs": [],
   "source": [
    "y = W * x_data + b"
   ]
  },
  {
   "cell_type": "markdown",
   "metadata": {
    "nbpresent": {
     "id": "d92d40d9-f6ff-457c-8872-75d7922285f7"
    }
   },
   "source": [
    "Let's define the error of the fit by the sum of the square of the error on each training example, also called the loss function, and minimize this mean squared error loss function to get the $W$ weight and $b$ bias. \n",
    "\n",
    "Then we pick a gradient descent optimizer as our optimizer to find the minimum of the loss we just defined. The GradientDescentOptimizer is called with a specific learning rate 0.5 in this case.\n",
    "\n",
    "We call on the optimizer the minimize function with the loss as parameter."
   ]
  },
  {
   "cell_type": "code",
   "execution_count": 235,
   "metadata": {
    "collapsed": true,
    "nbpresent": {
     "id": "c404966f-b328-4a78-94ea-87e52c83bebf"
    }
   },
   "outputs": [],
   "source": [
    "loss = tf.reduce_mean(tf.square(y - y_data))\n",
    "learningRate = 0.01\n",
    "optimizer = tf.train.GradientDescentOptimizer(learningRate)\n",
    "train = optimizer.minimize(loss)"
   ]
  },
  {
   "cell_type": "markdown",
   "metadata": {
    "nbpresent": {
     "id": "5497f5eb-0f8d-43b3-9e31-edd0f6bd589f"
    }
   },
   "source": [
    "### Define Tensorflow session and initialize it"
   ]
  },
  {
   "cell_type": "markdown",
   "metadata": {
    "nbpresent": {
     "id": "267cf2a1-ab6b-4881-bbd7-08335223a7b2"
    }
   },
   "source": [
    "Before starting, initialize the variables, meaning intialize $W$ weight and $b$ bias. We will 'run' this - initialization - first."
   ]
  },
  {
   "cell_type": "code",
   "execution_count": 236,
   "metadata": {
    "collapsed": false,
    "nbpresent": {
     "id": "07e975eb-a528-45c4-8f14-224fa29bccd8"
    }
   },
   "outputs": [],
   "source": [
    "init = tf.initialize_all_variables()"
   ]
  },
  {
   "cell_type": "markdown",
   "metadata": {
    "nbpresent": {
     "id": "58975332-37e5-444d-9c6b-668d6ab2e022"
    }
   },
   "source": [
    "Let's define a TensorFlow session and now actually run the initialization in this session."
   ]
  },
  {
   "cell_type": "code",
   "execution_count": 237,
   "metadata": {
    "collapsed": false,
    "nbpresent": {
     "id": "3391f1cf-d63f-4d79-8172-baa93701797f"
    }
   },
   "outputs": [],
   "source": [
    "sess = tf.Session()\n",
    "sess.run(init)"
   ]
  },
  {
   "cell_type": "markdown",
   "metadata": {
    "nbpresent": {
     "id": "56cc134f-8e2b-471b-ab5f-867e9a531780"
    }
   },
   "source": [
    "### Run the Tensorflow learning session"
   ]
  },
  {
   "cell_type": "markdown",
   "metadata": {
    "nbpresent": {
     "id": "4f56c643-df9a-4d18-9db3-a097c36854ad"
    }
   },
   "source": [
    "Now, we do the actual fitting or learning step-by-step by running the above defined 'train' optimizer to minimize the loss function."
   ]
  },
  {
   "cell_type": "code",
   "execution_count": 238,
   "metadata": {
    "collapsed": false,
    "nbpresent": {
     "id": "f728b7fc-2eab-4076-a875-c9f1cdaee316"
    }
   },
   "outputs": [
    {
     "name": "stdout",
     "output_type": "stream",
     "text": [
      "0 0.00584316 0.228805 0.314498\n",
      "100 0.258655 0.121222 0.0454265\n",
      "200 0.294139 0.103383 0.00660648\n",
      "300 0.299163 0.100528 0.000965032\n"
     ]
    }
   ],
   "source": [
    "n_steps = 301   # Number of steps in the gradient descent towards the minimum of the loss function\n",
    "n_gap = 100     # Plot every n-gap steps starting from the 1st step\n",
    "for step in range(n_steps):\n",
    "    sess.run(train)\n",
    "    if step % n_gap == 0:\n",
    "        Wstep = sess.run(W)\n",
    "        bstep = sess.run(b)\n",
    "        lossstep = sess.run(loss)\n",
    "        color = (1,0,0,0.9*step/n_steps+0.1)\n",
    "        plotLine(p1,ax1,bstep,Wstep, color) # Successively plots better fitting lines\n",
    "        print(step, bstep[0], Wstep[0], np.sqrt(lossstep))\n",
    "\n",
    "# Learns best fit: b: 0.3, W: 0.1"
   ]
  },
  {
   "cell_type": "markdown",
   "metadata": {
    "nbpresent": {
     "id": "3fdb1216-8b4e-4ca6-a511-f21146fa9c1e"
    }
   },
   "source": [
    "Note in the plot below how the ideal linear fit is approached as the gradient descent algorithm finds the minimum of the loss function. The darker red the hue, the better the fit."
   ]
  },
  {
   "cell_type": "code",
   "execution_count": 239,
   "metadata": {
    "collapsed": false,
    "nbpresent": {
     "id": "91d8fc31-7334-4867-a695-10906da83708"
    }
   },
   "outputs": [
    {
     "data": {
      "image/png": "[encoded data removed]",
      "text/plain": [
       "<matplotlib.figure.Figure at 0x12151d860>"
      ]
     },
     "execution_count": 239,
     "metadata": {},
     "output_type": "execute_result"
    }
   ],
   "source": [
    "p1"
   ]
  },
  {
   "cell_type": "code",
   "execution_count": 199,
   "metadata": {
    "collapsed": false,
    "nbpresent": {
     "id": "786fc682-9be3-49de-95e9-176c50fed12b"
    }
   },
   "outputs": [],
   "source": [
    "sess.close()"
   ]
  },
  {
   "cell_type": "code",
   "execution_count": 283,
   "metadata": {
    "collapsed": false,
    "nbpresent": {
     "id": "39df1112-8bad-4565-8171-3e9408785e07"
    }
   },
   "outputs": [],
   "source": [
    "#plot(sess.graph)"
   ]
  },
  {
   "cell_type": "code",
   "execution_count": null,
   "metadata": {
    "collapsed": true,
    "nbpresent": {
     "id": "26900845-a8bd-4dce-8126-509c250216da"
    }
   },
   "outputs": [],
   "source": []
  },
  {
   "cell_type": "code",
   "execution_count": null,
   "metadata": {
    "collapsed": true,
    "nbpresent": {
     "id": "4bb73e5d-8a52-4534-9196-f208330902b6"
    }
   },
   "outputs": [],
   "source": []
  },
  {
   "cell_type": "code",
   "execution_count": null,
   "metadata": {
    "collapsed": true,
    "nbpresent": {
     "id": "686a0940-7282-4e73-80a3-8391a1f5fdc7"
    }
   },
   "outputs": [],
   "source": []
  }
 ],
 "metadata": {
  "anaconda-cloud": {},
  "kernelspec": {
   "display_name": "Python [default]",
   "language": "python",
   "name": "python3"
  },
  "language_info": {
   "codemirror_mode": {
    "name": "ipython",
    "version": 3
   },
   "file_extension": ".py",
   "mimetype": "text/x-python",
   "name": "python",
   "nbconvert_exporter": "python",
   "pygments_lexer": "ipython3",
   "version": "3.5.2"
  },
  "nbpresent": {
   "slides": {
    "07e03bc3-8919-4bdd-9bbf-9ce8679cfbc7": {
     "id": "07e03bc3-8919-4bdd-9bbf-9ce8679cfbc7",
     "prev": "3fa212ec-b86d-48af-a14e-ed67c537f20c",
     "regions": {
      "3e5bd6a8-12c6-4af4-83d3-0dfd8d2f22d8": {
       "attrs": {
        "height": 0.8,
        "width": 0.8,
        "x": 0.1,
        "y": 0.1
       },
       "content": {
        "cell": "41819ccc-dec5-4a59-bce3-41884fcd1642",
        "part": "whole"
       },
       "id": "3e5bd6a8-12c6-4af4-83d3-0dfd8d2f22d8"
      }
     }
    },
    "09ac45d0-58e9-4c52-9e24-131889b92f8d": {
     "id": "09ac45d0-58e9-4c52-9e24-131889b92f8d",
     "prev": "57bd9338-1cf5-4e29-b2e8-fb38a6f3ca8b",
     "regions": {
      "bfc11d30-0315-4ec1-b6fe-3ec65ab040c5": {
       "attrs": {
        "height": 0.8,
        "width": 0.8,
        "x": 0.1,
        "y": 0.1
       },
       "content": {
        "cell": "bf44e7fa-7864-4f41-beff-627f7755f9af",
        "part": "whole"
       },
       "id": "bfc11d30-0315-4ec1-b6fe-3ec65ab040c5"
      }
     }
    },
    "10e56a47-1f91-4136-9281-a6a266f8ba2b": {
     "id": "10e56a47-1f91-4136-9281-a6a266f8ba2b",
     "prev": "e46e5d8c-98f4-4a28-bf87-dbd1eacd5123",
     "regions": {
      "03d7b667-9955-47a2-a8c4-11993aad8e60": {
       "attrs": {
        "height": 0.8,
        "width": 0.8,
        "x": 0.1,
        "y": 0.1
       },
       "content": {
        "cell": "6b8f4749-068b-455e-bd67-810271c7adf6",
        "part": "whole"
       },
       "id": "03d7b667-9955-47a2-a8c4-11993aad8e60"
      }
     }
    },
    "13617e76-e6d3-4c79-8781-bdf13a8debf2": {
     "id": "13617e76-e6d3-4c79-8781-bdf13a8debf2",
     "prev": "c9792cf0-b9d8-41b0-a8e1-b6e687176e13",
     "regions": {
      "69a6c85a-11a3-4956-8e06-922d4da2279c": {
       "attrs": {
        "height": 0.8,
        "width": 0.8,
        "x": 0.1,
        "y": 0.1
       },
       "content": {
        "cell": "bab11eaa-0bb0-4341-92ac-1c0a124cc367",
        "part": "whole"
       },
       "id": "69a6c85a-11a3-4956-8e06-922d4da2279c"
      }
     }
    },
    "1ed93781-be33-44d3-828c-a53509e45851": {
     "id": "1ed93781-be33-44d3-828c-a53509e45851",
     "prev": null,
     "regions": {
      "09b5e3e2-395c-4778-b018-8156c0775180": {
       "attrs": {
        "height": 0.8,
        "width": 0.8,
        "x": 0.1,
        "y": 0.1
       },
       "content": {
        "cell": "6ddd6d93-17be-49dc-bf00-91c839d2edbe",
        "part": "whole"
       },
       "id": "09b5e3e2-395c-4778-b018-8156c0775180"
      }
     }
    },
    "30971499-3b62-4aed-9f2f-8d0fabf7fcaa": {
     "id": "30971499-3b62-4aed-9f2f-8d0fabf7fcaa",
     "prev": "a6f922c4-faa4-4977-b0fe-78f1dca13123",
     "regions": {
      "1871b544-64fd-4e00-865e-3b9e687972e0": {
       "attrs": {
        "height": 0.8,
        "width": 0.8,
        "x": 0.1,
        "y": 0.1
       },
       "content": {
        "cell": "3391f1cf-d63f-4d79-8172-baa93701797f",
        "part": "whole"
       },
       "id": "1871b544-64fd-4e00-865e-3b9e687972e0"
      }
     }
    },
    "3fa212ec-b86d-48af-a14e-ed67c537f20c": {
     "id": "3fa212ec-b86d-48af-a14e-ed67c537f20c",
     "prev": "9b411035-b670-4bdd-8450-d3efcf1f20e6",
     "regions": {
      "b471a359-4256-4073-ad11-0dd8627d3498": {
       "attrs": {
        "height": 0.8,
        "width": 0.8,
        "x": 0.1,
        "y": 0.1
       },
       "content": {
        "cell": "d673b458-ebd0-498c-9179-4ba73d68ad93",
        "part": "whole"
       },
       "id": "b471a359-4256-4073-ad11-0dd8627d3498"
      }
     }
    },
    "4150c07c-5c46-4e00-b360-67abdfd251e7": {
     "id": "4150c07c-5c46-4e00-b360-67abdfd251e7",
     "prev": "47db5446-bbe5-432b-9f5e-7ce1b916631f",
     "regions": {
      "8abfec87-bb4b-449b-a403-0d9864166fa8": {
       "attrs": {
        "height": 0.8,
        "width": 0.8,
        "x": 0.1,
        "y": 0.1
       },
       "content": {
        "cell": "295ba2d0-febb-4871-8562-caf2799d9762",
        "part": "whole"
       },
       "id": "8abfec87-bb4b-449b-a403-0d9864166fa8"
      }
     }
    },
    "47db5446-bbe5-432b-9f5e-7ce1b916631f": {
     "id": "47db5446-bbe5-432b-9f5e-7ce1b916631f",
     "prev": "a788aa65-fa80-4f09-ba5d-bbddae52bcc9",
     "regions": {
      "d276d18f-90e5-43d7-b1a9-b207d4a5bb1b": {
       "attrs": {
        "height": 0.8,
        "width": 0.8,
        "x": 0.1,
        "y": 0.1
       },
       "content": {
        "cell": "4aa76cfe-1b57-4e0f-b3c1-a08382554c46",
        "part": "whole"
       },
       "id": "d276d18f-90e5-43d7-b1a9-b207d4a5bb1b"
      }
     }
    },
    "49d6772d-64c0-4407-b7c0-5cbce809a03a": {
     "id": "49d6772d-64c0-4407-b7c0-5cbce809a03a",
     "prev": "10e56a47-1f91-4136-9281-a6a266f8ba2b",
     "regions": {
      "88263db4-6dff-478d-84bd-098217e97c67": {
       "attrs": {
        "height": 0.8,
        "width": 0.8,
        "x": 0.1,
        "y": 0.1
       },
       "content": {
        "cell": "c9c62429-5d7a-40b7-8f37-d2e6b5bad67c",
        "part": "whole"
       },
       "id": "88263db4-6dff-478d-84bd-098217e97c67"
      }
     }
    },
    "5259ab34-f28c-47a8-9b03-06b327d46a95": {
     "id": "5259ab34-f28c-47a8-9b03-06b327d46a95",
     "prev": "09ac45d0-58e9-4c52-9e24-131889b92f8d",
     "regions": {
      "fe141f86-af77-44ae-be6a-a289ccc88a20": {
       "attrs": {
        "height": 0.8,
        "width": 0.8,
        "x": 0.1,
        "y": 0.1
       },
       "content": {
        "cell": "d92d40d9-f6ff-457c-8872-75d7922285f7",
        "part": "whole"
       },
       "id": "fe141f86-af77-44ae-be6a-a289ccc88a20"
      }
     }
    },
    "54085675-6f70-41a1-9908-4defb0c9a4bb": {
     "id": "54085675-6f70-41a1-9908-4defb0c9a4bb",
     "prev": "1ed93781-be33-44d3-828c-a53509e45851",
     "regions": {
      "d4f2d24c-52a9-4272-befa-6cb0e720ccc6": {
       "attrs": {
        "height": 0.8,
        "width": 0.8,
        "x": 0.1,
        "y": 0.1
       },
       "content": {
        "cell": "48ba0157-506f-49f4-9ea1-641432e495e9",
        "part": "whole"
       },
       "id": "d4f2d24c-52a9-4272-befa-6cb0e720ccc6"
      }
     }
    },
    "57bd9338-1cf5-4e29-b2e8-fb38a6f3ca8b": {
     "id": "57bd9338-1cf5-4e29-b2e8-fb38a6f3ca8b",
     "prev": "bd90652b-47db-4dbf-bd67-097a7ad9e5be",
     "regions": {
      "d1b90621-8c9e-416c-b1ed-bdab63de4009": {
       "attrs": {
        "height": 0.8,
        "width": 0.8,
        "x": 0.1,
        "y": 0.1
       },
       "content": {
        "cell": "efd3df24-7533-496c-95fc-e9657b5f160a",
        "part": "whole"
       },
       "id": "d1b90621-8c9e-416c-b1ed-bdab63de4009"
      }
     }
    },
    "5db8926c-1992-4f09-b701-5b140c7aba69": {
     "id": "5db8926c-1992-4f09-b701-5b140c7aba69",
     "prev": "30971499-3b62-4aed-9f2f-8d0fabf7fcaa",
     "regions": {
      "40f484e1-4b35-46b6-aa1a-8427a121cdaa": {
       "attrs": {
        "height": 0.8,
        "width": 0.8,
        "x": 0.1,
        "y": 0.1
       },
       "content": {
        "cell": "56cc134f-8e2b-471b-ab5f-867e9a531780",
        "part": "whole"
       },
       "id": "40f484e1-4b35-46b6-aa1a-8427a121cdaa"
      }
     }
    },
    "8176fdc0-3c5d-43e5-a94d-109718f7f2ed": {
     "id": "8176fdc0-3c5d-43e5-a94d-109718f7f2ed",
     "prev": "bc5efa9e-384f-4ceb-858e-726db863fcfd",
     "regions": {
      "7f1d16c9-b608-4d05-88a0-514a49d76c49": {
       "attrs": {
        "height": 0.8,
        "width": 0.8,
        "x": 0.1,
        "y": 0.1
       },
       "content": {
        "cell": "39df1112-8bad-4565-8171-3e9408785e07",
        "part": "whole"
       },
       "id": "7f1d16c9-b608-4d05-88a0-514a49d76c49"
      }
     }
    },
    "8402cb5c-a7fb-472f-a934-a04c0b4e389f": {
     "id": "8402cb5c-a7fb-472f-a934-a04c0b4e389f",
     "prev": "8758cf3a-79c7-4cb3-9b0b-4254b48e9688",
     "regions": {
      "8cdcadb8-26eb-4274-8ed1-2fed35ad4612": {
       "attrs": {
        "height": 0.8,
        "width": 0.8,
        "x": 0.1,
        "y": 0.1
       },
       "content": {
        "cell": "267cf2a1-ab6b-4881-bbd7-08335223a7b2",
        "part": "whole"
       },
       "id": "8cdcadb8-26eb-4274-8ed1-2fed35ad4612"
      }
     }
    },
    "86619ab5-080f-47b2-9a23-aeea1e5f88f9": {
     "id": "86619ab5-080f-47b2-9a23-aeea1e5f88f9",
     "prev": "5259ab34-f28c-47a8-9b03-06b327d46a95",
     "regions": {
      "e68a3081-3d54-464c-8390-ff4ac171c4e8": {
       "attrs": {
        "height": 0.8,
        "width": 0.8,
        "x": 0.1,
        "y": 0.1
       },
       "content": {
        "cell": "c404966f-b328-4a78-94ea-87e52c83bebf",
        "part": "whole"
       },
       "id": "e68a3081-3d54-464c-8390-ff4ac171c4e8"
      }
     }
    },
    "86690124-8941-407b-9263-169fd2bec0e0": {
     "id": "86690124-8941-407b-9263-169fd2bec0e0",
     "prev": "13617e76-e6d3-4c79-8781-bdf13a8debf2",
     "regions": {
      "f7fb35e5-0b25-44a5-a97f-4426258bc259": {
       "attrs": {
        "height": 0.8,
        "width": 0.8,
        "x": 0.1,
        "y": 0.1
       },
       "content": {
        "cell": "b120f251-ab59-4121-86d1-eaec05c7e559",
        "part": "whole"
       },
       "id": "f7fb35e5-0b25-44a5-a97f-4426258bc259"
      }
     }
    },
    "8758cf3a-79c7-4cb3-9b0b-4254b48e9688": {
     "id": "8758cf3a-79c7-4cb3-9b0b-4254b48e9688",
     "prev": "86619ab5-080f-47b2-9a23-aeea1e5f88f9",
     "regions": {
      "0cb61e51-3f94-41b0-b10f-27ef45db8eb5": {
       "attrs": {
        "height": 0.8,
        "width": 0.8,
        "x": 0.1,
        "y": 0.1
       },
       "content": {
        "cell": "5497f5eb-0f8d-43b3-9e31-edd0f6bd589f",
        "part": "whole"
       },
       "id": "0cb61e51-3f94-41b0-b10f-27ef45db8eb5"
      }
     }
    },
    "8b47715a-d0fa-444e-8bd5-cf01d73f67bd": {
     "id": "8b47715a-d0fa-444e-8bd5-cf01d73f67bd",
     "prev": "e5dc41ed-91c2-4c3b-bcf7-3f94ebacc153",
     "regions": {
      "e68374d8-04b8-4030-a8f0-ca69e57b8cd4": {
       "attrs": {
        "height": 0.8,
        "width": 0.8,
        "x": 0.1,
        "y": 0.1
       },
       "content": {
        "cell": "686a0940-7282-4e73-80a3-8391a1f5fdc7",
        "part": "whole"
       },
       "id": "e68374d8-04b8-4030-a8f0-ca69e57b8cd4"
      }
     }
    },
    "9a46bf71-a3cf-4155-b3dd-db2afabb3580": {
     "id": "9a46bf71-a3cf-4155-b3dd-db2afabb3580",
     "prev": "c99dafec-572b-4d52-8a6d-5658fc4f2aa2",
     "regions": {
      "7f757684-7cb6-4cd0-8dd4-7941b9c8a51e": {
       "attrs": {
        "height": 0.8,
        "width": 0.8,
        "x": 0.1,
        "y": 0.1
       },
       "content": {
        "cell": "f728b7fc-2eab-4076-a875-c9f1cdaee316",
        "part": "whole"
       },
       "id": "7f757684-7cb6-4cd0-8dd4-7941b9c8a51e"
      }
     }
    },
    "9b411035-b670-4bdd-8450-d3efcf1f20e6": {
     "id": "9b411035-b670-4bdd-8450-d3efcf1f20e6",
     "prev": "49d6772d-64c0-4407-b7c0-5cbce809a03a",
     "regions": {
      "9ef0df5d-1b48-468e-a7ae-e0200b73ca68": {
       "attrs": {
        "height": 0.8,
        "width": 0.8,
        "x": 0.1,
        "y": 0.1
       },
       "content": {
        "cell": "f65926a4-9133-4c76-a73a-fef1961f3684",
        "part": "whole"
       },
       "id": "9ef0df5d-1b48-468e-a7ae-e0200b73ca68"
      }
     }
    },
    "a5c5b48e-9087-458c-9d4d-cec4a266ae1d": {
     "id": "a5c5b48e-9087-458c-9d4d-cec4a266ae1d",
     "prev": "f18c53a5-6c9b-4abe-a3dc-793990bc29eb",
     "regions": {
      "0730ca9e-d916-4aac-9d17-e226542c866e": {
       "attrs": {
        "height": 0.8,
        "width": 0.8,
        "x": 0.1,
        "y": 0.1
       },
       "content": {
        "cell": "af843651-30f5-4c79-bb49-e530d35d8858",
        "part": "whole"
       },
       "id": "0730ca9e-d916-4aac-9d17-e226542c866e"
      }
     }
    },
    "a6f922c4-faa4-4977-b0fe-78f1dca13123": {
     "id": "a6f922c4-faa4-4977-b0fe-78f1dca13123",
     "prev": "da6ebf31-dfe6-45ed-8e75-c065f1f5246a",
     "regions": {
      "93716b54-6069-4a33-8518-9e53c44a9fd8": {
       "attrs": {
        "height": 0.8,
        "width": 0.8,
        "x": 0.1,
        "y": 0.1
       },
       "content": {
        "cell": "58975332-37e5-444d-9c6b-668d6ab2e022",
        "part": "whole"
       },
       "id": "93716b54-6069-4a33-8518-9e53c44a9fd8"
      }
     }
    },
    "a788aa65-fa80-4f09-ba5d-bbddae52bcc9": {
     "id": "a788aa65-fa80-4f09-ba5d-bbddae52bcc9",
     "prev": "07e03bc3-8919-4bdd-9bbf-9ce8679cfbc7",
     "regions": {
      "43cff8ad-13a6-46d1-b20c-a690b6f3bf51": {
       "attrs": {
        "height": 0.8,
        "width": 0.8,
        "x": 0.1,
        "y": 0.1
       },
       "content": {
        "cell": "b8737763-c8d2-49c4-a9a4-c7efa8e9c3d8",
        "part": "whole"
       },
       "id": "43cff8ad-13a6-46d1-b20c-a690b6f3bf51"
      }
     }
    },
    "ad1c27a7-e95b-43eb-a173-41acca4b9806": {
     "id": "ad1c27a7-e95b-43eb-a173-41acca4b9806",
     "prev": "b5c0b54a-8b37-4c3b-b37d-bc1b9378d930",
     "regions": {
      "02d19ac0-36a0-46fa-8380-b17ed026e9aa": {
       "attrs": {
        "height": 0.8,
        "width": 0.8,
        "x": 0.1,
        "y": 0.1
       },
       "content": {
        "cell": "91d8fc31-7334-4867-a695-10906da83708",
        "part": "whole"
       },
       "id": "02d19ac0-36a0-46fa-8380-b17ed026e9aa"
      }
     }
    },
    "b4312d31-ce13-499e-b31c-d74059fcbaca": {
     "id": "b4312d31-ce13-499e-b31c-d74059fcbaca",
     "prev": "8176fdc0-3c5d-43e5-a94d-109718f7f2ed",
     "regions": {
      "a16a44fd-fbaa-482b-99aa-8f287ebb8ffc": {
       "attrs": {
        "height": 0.8,
        "width": 0.8,
        "x": 0.1,
        "y": 0.1
       },
       "content": {
        "cell": "26900845-a8bd-4dce-8126-509c250216da",
        "part": "whole"
       },
       "id": "a16a44fd-fbaa-482b-99aa-8f287ebb8ffc"
      }
     }
    },
    "b5148321-5628-40e3-8a03-402f5335fb9a": {
     "id": "b5148321-5628-40e3-8a03-402f5335fb9a",
     "prev": "f9513fb2-7fe4-4803-9c16-adf448736aaa",
     "regions": {
      "0d2c202f-c49c-4f3f-b13b-33026be4f1d2": {
       "attrs": {
        "height": 0.8,
        "width": 0.8,
        "x": 0.1,
        "y": 0.1
       },
       "content": {
        "cell": "902bcb83-ff35-433c-86bb-197f3f3746eb",
        "part": "whole"
       },
       "id": "0d2c202f-c49c-4f3f-b13b-33026be4f1d2"
      }
     }
    },
    "b5c0b54a-8b37-4c3b-b37d-bc1b9378d930": {
     "id": "b5c0b54a-8b37-4c3b-b37d-bc1b9378d930",
     "prev": "9a46bf71-a3cf-4155-b3dd-db2afabb3580",
     "regions": {
      "18fe6a30-6c16-4db5-b88e-b66a2c9d0762": {
       "attrs": {
        "height": 0.8,
        "width": 0.8,
        "x": 0.1,
        "y": 0.1
       },
       "content": {
        "cell": "3fdb1216-8b4e-4ca6-a511-f21146fa9c1e",
        "part": "whole"
       },
       "id": "18fe6a30-6c16-4db5-b88e-b66a2c9d0762"
      }
     }
    },
    "bc5efa9e-384f-4ceb-858e-726db863fcfd": {
     "id": "bc5efa9e-384f-4ceb-858e-726db863fcfd",
     "prev": "ad1c27a7-e95b-43eb-a173-41acca4b9806",
     "regions": {
      "02cdc0ad-9ce0-4c85-9621-d780e32e9a80": {
       "attrs": {
        "height": 0.8,
        "width": 0.8,
        "x": 0.1,
        "y": 0.1
       },
       "content": {
        "cell": "786fc682-9be3-49de-95e9-176c50fed12b",
        "part": "whole"
       },
       "id": "02cdc0ad-9ce0-4c85-9621-d780e32e9a80"
      }
     }
    },
    "bd90652b-47db-4dbf-bd67-097a7ad9e5be": {
     "id": "bd90652b-47db-4dbf-bd67-097a7ad9e5be",
     "prev": "86690124-8941-407b-9263-169fd2bec0e0",
     "regions": {
      "d45db76e-b3e2-41eb-ba2c-a362b63e96e3": {
       "attrs": {
        "height": 0.8,
        "width": 0.8,
        "x": 0.1,
        "y": 0.1
       },
       "content": {
        "cell": "6a34991a-0d08-460a-bc46-917c7b963d5e",
        "part": "whole"
       },
       "id": "d45db76e-b3e2-41eb-ba2c-a362b63e96e3"
      }
     }
    },
    "c9792cf0-b9d8-41b0-a8e1-b6e687176e13": {
     "id": "c9792cf0-b9d8-41b0-a8e1-b6e687176e13",
     "prev": "b5148321-5628-40e3-8a03-402f5335fb9a",
     "regions": {
      "f098d49d-d05d-4ad4-ae5c-0139fbdb7771": {
       "attrs": {
        "height": 0.8,
        "width": 0.8,
        "x": 0.1,
        "y": 0.1
       },
       "content": {
        "cell": "bf48e5e7-cec9-4bbe-ad69-f2a697b35f86",
        "part": "whole"
       },
       "id": "f098d49d-d05d-4ad4-ae5c-0139fbdb7771"
      }
     }
    },
    "c99dafec-572b-4d52-8a6d-5658fc4f2aa2": {
     "id": "c99dafec-572b-4d52-8a6d-5658fc4f2aa2",
     "prev": "5db8926c-1992-4f09-b701-5b140c7aba69",
     "regions": {
      "d74ee677-3774-4f4a-85ec-2f49d9596394": {
       "attrs": {
        "height": 0.8,
        "width": 0.8,
        "x": 0.1,
        "y": 0.1
       },
       "content": {
        "cell": "4f56c643-df9a-4d18-9db3-a097c36854ad",
        "part": "whole"
       },
       "id": "d74ee677-3774-4f4a-85ec-2f49d9596394"
      }
     }
    },
    "da6ebf31-dfe6-45ed-8e75-c065f1f5246a": {
     "id": "da6ebf31-dfe6-45ed-8e75-c065f1f5246a",
     "prev": "8402cb5c-a7fb-472f-a934-a04c0b4e389f",
     "regions": {
      "f9bc8f75-07ec-455e-9308-5ecc37820865": {
       "attrs": {
        "height": 0.8,
        "width": 0.8,
        "x": 0.1,
        "y": 0.1
       },
       "content": {
        "cell": "07e975eb-a528-45c4-8f14-224fa29bccd8",
        "part": "whole"
       },
       "id": "f9bc8f75-07ec-455e-9308-5ecc37820865"
      }
     }
    },
    "e46e5d8c-98f4-4a28-bf87-dbd1eacd5123": {
     "id": "e46e5d8c-98f4-4a28-bf87-dbd1eacd5123",
     "prev": "54085675-6f70-41a1-9908-4defb0c9a4bb",
     "regions": {
      "e210a84b-72d8-4ab8-a553-2cd2618e8fb4": {
       "attrs": {
        "height": 0.8,
        "width": 0.8,
        "x": 0.1,
        "y": 0.1
       },
       "content": {
        "cell": "1b635496-03c6-4ed9-b72a-2147e8c74271",
        "part": "whole"
       },
       "id": "e210a84b-72d8-4ab8-a553-2cd2618e8fb4"
      }
     }
    },
    "e5dc41ed-91c2-4c3b-bcf7-3f94ebacc153": {
     "id": "e5dc41ed-91c2-4c3b-bcf7-3f94ebacc153",
     "prev": "b4312d31-ce13-499e-b31c-d74059fcbaca",
     "regions": {
      "44f56f1e-7e58-4ba4-b36e-5ffb05f495ee": {
       "attrs": {
        "height": 0.8,
        "width": 0.8,
        "x": 0.1,
        "y": 0.1
       },
       "content": {
        "cell": "4bb73e5d-8a52-4534-9196-f208330902b6",
        "part": "whole"
       },
       "id": "44f56f1e-7e58-4ba4-b36e-5ffb05f495ee"
      }
     }
    },
    "f18c53a5-6c9b-4abe-a3dc-793990bc29eb": {
     "id": "f18c53a5-6c9b-4abe-a3dc-793990bc29eb",
     "prev": "4150c07c-5c46-4e00-b360-67abdfd251e7",
     "regions": {
      "0e9e6422-564f-41f2-8bc5-9b427e9e25c2": {
       "attrs": {
        "height": 0.8,
        "width": 0.8,
        "x": 0.1,
        "y": 0.1
       },
       "content": {
        "cell": "25779c7b-181b-481c-a363-2e818a1cdf69",
        "part": "whole"
       },
       "id": "0e9e6422-564f-41f2-8bc5-9b427e9e25c2"
      }
     }
    },
    "f9513fb2-7fe4-4803-9c16-adf448736aaa": {
     "id": "f9513fb2-7fe4-4803-9c16-adf448736aaa",
     "prev": "a5c5b48e-9087-458c-9d4d-cec4a266ae1d",
     "regions": {
      "b89e6e49-7ce4-4c3a-a6dd-7725f31d7ed1": {
       "attrs": {
        "height": 0.8,
        "width": 0.8,
        "x": 0.1,
        "y": 0.1
       },
       "content": {
        "cell": "42382f2a-06ca-4da0-a872-7d6e06935341",
        "part": "whole"
       },
       "id": "b89e6e49-7ce4-4c3a-a6dd-7725f31d7ed1"
      }
     }
    }
   },
   "themes": {}
  }
 },
 "nbformat": 4,
 "nbformat_minor": 0
}
